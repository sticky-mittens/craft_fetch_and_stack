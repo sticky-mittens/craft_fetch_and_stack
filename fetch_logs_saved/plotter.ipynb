{
 "cells": [
  {
   "cell_type": "code",
   "execution_count": null,
   "source": [
    "import numpy as np\n",
    "import pandas as pd\n",
    "import seaborn as sns\n",
    "sns.set_theme(style=\"darkgrid\")\n",
    "\n",
    "folder = \".\"\n",
    "seed_choices = {\"step_block_3\": [25, 50, 100], \"step_block_4\": [25, 50, 100]}\n",
    "total_eps_choices = {\"step_block_3\": 3000, \"step_block_4\": 3000}\n",
    "timesteps_choices = {\"step_block_3\": 150, \"step_block_4\": 200}\n",
    "store = {\"step_block_3\": {'t': [], 'r': [], 'l': []}, \"step_block_4\": {'t': [], 'r': [], 'l': []}}\n",
    "for top_goal in [\"step_block_3\", \"step_block_4\"]:\n",
    "    for seed in seed_choices[top_goal]:\n",
    "        new_level = False\n",
    "        file = folder+\"/\"+\"ours_10k_{}_uber_level_0_seed_{}.log\".format(top_goal, seed)\n",
    "        with open(file, \"r\") as f:\n",
    "            for i, line in enumerate(f.readlines()):\n",
    "                if \"Learning at level\" in line:\n",
    "                    level = line.split()[-1]\n",
    "                    if float(level) == 2:\n",
    "                        break\n",
    "                    new_level = True\n",
    "                elif new_level and 'Average reward' in line: # after splitting level, e.g. ['At', 'episode', '-', '20', 'Average', 'reward', '-', '0.2166']\n",
    "                    ep = float(line.split()[3])\n",
    "                    t = ep * timesteps_choices[top_goal]\n",
    "                    store[top_goal]['t'].append(t)\n",
    "\n",
    "                    avg_reward = float(line.split()[-1])\n",
    "                    store[top_goal]['r'].append(avg_reward)\n",
    "\n",
    "                    store[top_goal]['l'].append('option-templates, level {}'.format(level))\n",
    "                    if ep >= total_eps_choices[top_goal]:\n",
    "                        new_level=False\n",
    "\n",
    "folder = \".\"\n",
    "seed_choices = {\"step_block_3\": [25, 50], \"step_block_4\": [25, 50]}\n",
    "total_eps_choices = {\"step_block_3\": 3000, \"step_block_4\": 3000}\n",
    "n_blocks_choices = {\"step_block_3\": 3, \"step_block_4\": 4}\n",
    "for top_goal in [\"step_block_3\", \"step_block_4\"]:\n",
    "    for seed in seed_choices[top_goal]:\n",
    "        new_level = False\n",
    "        file = folder+\"/\"+\"baseline_{}_uber_level_0_seed_{}.log\".format(top_goal, seed)\n",
    "        with open(file, \"r\") as f:\n",
    "            for i, line in enumerate(f.readlines()):\n",
    "                if 'Average reward' in line: # after splitting level, e.g. ['At', 'episode', '-', '20', 'Average', 'reward', '-', '0.2166']\n",
    "                    ep = float(line.split()[3])\n",
    "                    t = ep * timesteps_choices[top_goal]\n",
    "                    store[top_goal]['t'].append(t)\n",
    "\n",
    "                    avg_reward = float(line.split()[-1])\n",
    "                    avg_reward_shaped = round( (avg_reward+n_blocks_choices[top_goal])/n_blocks_choices[top_goal], 3 )\n",
    "                    store[top_goal]['r'].append(avg_reward_shaped)\n",
    "\n",
    "                    store[top_goal]['l'].append('baseline')\n",
    "                    if ep >= total_eps_choices[top_goal]:\n",
    "                        break"
   ],
   "outputs": [],
   "metadata": {}
  },
  {
   "cell_type": "code",
   "execution_count": null,
   "source": [
    "from matplotlib import pyplot as plt \n",
    "plt.rc('font', size=24)          # controls default text sizes\n",
    "plt.rc('axes', titlesize=24)     # fontsize of the axes title\n",
    "plt.rc('axes', labelsize=24)    # fontsize of the x and y labels\n",
    "plt.rc('xtick', labelsize=24)    # fontsize of the tick labels\n",
    "plt.rc('ytick', labelsize=24)    # fontsize of the tick labels\n",
    "plt.rc('legend', fontsize=24)    # legend fontsize\n",
    "plt.rc('figure', titlesize=30)  # fontsize of the figure title\n",
    "#plt.rc('text', usetex=True)\n",
    "\n",
    "\n",
    "title_choices = {\"step_block_3\": \"Three blocks (step rewards)\", \"step_block_4\": \"Four blocks (step rewards)\"}\n",
    "def plot(top_goal):\n",
    "    plt.figure(figsize=(12,9))\n",
    "    plt.title(title_choices[top_goal])\n",
    "    dicti = {'time steps': store[top_goal]['t'], 'avg reward': store[top_goal]['r'], '': store[top_goal]['l']}\n",
    "    df = pd.DataFrame.from_dict(dicti)\n",
    "    sns.lineplot(x='time steps', y='avg reward', hue='',\n",
    "        data=df)\n",
    "    plt.legend(loc='lower right')\n",
    "    plt.ticklabel_format(style='sci', axis='x', scilimits=(0,0))"
   ],
   "outputs": [],
   "metadata": {}
  },
  {
   "cell_type": "code",
   "execution_count": null,
   "source": [
    "plot(\"step_block_3\")"
   ],
   "outputs": [],
   "metadata": {}
  },
  {
   "cell_type": "code",
   "execution_count": null,
   "source": [
    "plot(\"step_block_4\")\n",
    "plt.ylim([-0.05,1])"
   ],
   "outputs": [],
   "metadata": {}
  },
  {
   "cell_type": "code",
   "execution_count": null,
   "source": [],
   "outputs": [],
   "metadata": {}
  }
 ],
 "metadata": {
  "orig_nbformat": 4,
  "language_info": {
   "name": "python",
   "version": "3.8.11",
   "mimetype": "text/x-python",
   "codemirror_mode": {
    "name": "ipython",
    "version": 3
   },
   "pygments_lexer": "ipython3",
   "nbconvert_exporter": "python",
   "file_extension": ".py"
  },
  "kernelspec": {
   "name": "python3",
   "display_name": "Python 3.8.11 64-bit ('DL_env': conda)"
  },
  "interpreter": {
   "hash": "bde1ba50c9c31d1dffdbf30b8d5293acc1b85b7a129ef469b25ff0114d8c4815"
  }
 },
 "nbformat": 4,
 "nbformat_minor": 2
}